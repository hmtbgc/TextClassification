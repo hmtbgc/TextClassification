{
 "cells": [
  {
   "cell_type": "code",
   "execution_count": 1,
   "metadata": {},
   "outputs": [],
   "source": [
    "import os\n",
    "from tqdm import tqdm\n"
   ]
  },
  {
   "cell_type": "code",
   "execution_count": 2,
   "metadata": {},
   "outputs": [],
   "source": [
    "root = \"./THUCNews\"\n",
    "class2idx = {}\n",
    "idx2class = {}\n",
    "idx = 0\n",
    "output = open(\"total_title.txt\", \"w\")"
   ]
  },
  {
   "cell_type": "code",
   "execution_count": 5,
   "metadata": {},
   "outputs": [
    {
     "name": "stderr",
     "output_type": "stream",
     "text": [
      "100%|██████████| 63086/63086 [00:13<00:00, 4517.34it/s]\n",
      "100%|██████████| 37098/37098 [00:07<00:00, 4653.53it/s]\n",
      "100%|██████████| 50849/50849 [00:10<00:00, 4650.43it/s]\n",
      "100%|██████████| 92632/92632 [00:19<00:00, 4696.63it/s]\n",
      "100%|██████████| 24373/24373 [00:04<00:00, 4980.54it/s]\n",
      "100%|██████████| 13368/13368 [00:02<00:00, 4505.29it/s]\n",
      "100%|██████████| 3578/3578 [00:00<00:00, 5754.12it/s]\n",
      "100%|██████████| 154398/154398 [00:33<00:00, 4644.85it/s]\n",
      "100%|██████████| 131604/131604 [00:29<00:00, 4504.31it/s]\n",
      "100%|██████████| 7588/7588 [00:01<00:00, 5232.06it/s]\n",
      "100%|██████████| 41936/41936 [00:09<00:00, 4415.82it/s]\n",
      "100%|██████████| 162929/162929 [00:35<00:00, 4592.98it/s]\n",
      "100%|██████████| 20050/20050 [00:04<00:00, 4602.51it/s]\n",
      "100%|██████████| 32586/32586 [00:06<00:00, 4874.84it/s]\n",
      "100%|██████████| 14/14 [03:01<00:00, 12.94s/it]\n"
     ]
    }
   ],
   "source": [
    "for class_type in tqdm(os.listdir(root)):\n",
    "    if class_type not in class2idx:\n",
    "        class2idx[class_type] = idx\n",
    "        idx2class[idx] = class_type\n",
    "        idx += 1\n",
    "    class_path = os.path.join(root, class_type)\n",
    "    for file in tqdm(os.listdir(class_path)):\n",
    "        file_path = os.path.join(class_path, file)\n",
    "        with open(file_path, \"r\") as f:\n",
    "            line = f.readline().strip()\n",
    "            print(f\"{line}\\t{class2idx[class_type]}\", file=output)\n"
   ]
  },
  {
   "cell_type": "code",
   "execution_count": 6,
   "metadata": {},
   "outputs": [
    {
     "name": "stdout",
     "output_type": "stream",
     "text": [
      "{'时政': 0, '财经': 1, '社会': 2, '娱乐': 3, '游戏': 4, '时尚': 5, '星座': 6, '股票': 7, '体育': 8, '彩票': 9, '教育': 10, '科技': 11, '房产': 12, '家居': 13}\n"
     ]
    }
   ],
   "source": [
    "print(class2idx)\n"
   ]
  },
  {
   "cell_type": "code",
   "execution_count": 23,
   "metadata": {},
   "outputs": [
    {
     "name": "stderr",
     "output_type": "stream",
     "text": [
      "836070it [00:01, 556759.30it/s] "
     ]
    },
    {
     "name": "stdout",
     "output_type": "stream",
     "text": [
      "total: 836065\n"
     ]
    },
    {
     "name": "stderr",
     "output_type": "stream",
     "text": [
      "\n"
     ]
    }
   ],
   "source": [
    "tot = []\n",
    "with open(\"total_title.txt\", \"r\") as f:\n",
    "    for line in tqdm(f):\n",
    "        x = line.strip().split('\\t')\n",
    "        if (len(x) == 2):\n",
    "            tot.append(x)\n",
    "\n",
    "print(f\"total: {len(tot)}\")"
   ]
  },
  {
   "cell_type": "code",
   "execution_count": 25,
   "metadata": {},
   "outputs": [],
   "source": [
    "import numpy as np\n",
    "np.random.shuffle(tot)\n",
    "\n",
    "tot_number = len(tot)\n",
    "train_rate, valid_rate, test_rate = 0.8, 0.1, 0.1\n",
    "train_number = int(train_rate * tot_number)\n",
    "valid_number = int(valid_rate * tot_number)\n",
    "test_number = tot_number - train_number - valid_number\n",
    "train = tot[: train_number]\n",
    "valid = tot[train_number : train_number + valid_number]\n",
    "test = tot[train_number + valid_number : ]\n"
   ]
  },
  {
   "cell_type": "code",
   "execution_count": 26,
   "metadata": {},
   "outputs": [
    {
     "name": "stdout",
     "output_type": "stream",
     "text": [
      "train len: 668852\n",
      "valid len: 83606\n",
      "test len: 83607\n"
     ]
    }
   ],
   "source": [
    "print(f\"train len: {len(train)}\")\n",
    "print(f\"valid len: {len(valid)}\")\n",
    "print(f\"test len: {len(test)}\")"
   ]
  },
  {
   "cell_type": "code",
   "execution_count": 27,
   "metadata": {},
   "outputs": [],
   "source": [
    "def write_to_file(path, data):\n",
    "    number = dict()\n",
    "    with open(path, \"w\") as f:\n",
    "        for x in data:\n",
    "            print(f\"{x[0]}\\t{x[1]}\", file=f)\n",
    "            if (x[1] not in number):\n",
    "                number[x[1]] = 1\n",
    "            else:\n",
    "                number[x[1]] += 1\n",
    "    return number\n",
    "    "
   ]
  },
  {
   "cell_type": "code",
   "execution_count": 33,
   "metadata": {},
   "outputs": [],
   "source": [
    "def print_distribution(d):\n",
    "    out = [0.0] * len(d)\n",
    "    tot = 0\n",
    "    for key, value in d.items():\n",
    "        tot += value\n",
    "    for key, value in d.items():\n",
    "        out[int(key)] = value / tot\n",
    "    return out"
   ]
  },
  {
   "cell_type": "code",
   "execution_count": 34,
   "metadata": {},
   "outputs": [
    {
     "name": "stdout",
     "output_type": "stream",
     "text": [
      "train:  [0.07566247839581851, 0.04423250584583734, 0.06069205145532943, 0.11074647306130504, 0.02923367202310825, 0.016011015889912866, 0.004298409812634185, 0.18406164592465896, 0.15756699538911448, 0.009097677812131832, 0.050069372596628255, 0.19523003594218152, 0.024092026337665134, 0.039005639513674174]\n",
      "valid:  [0.07509030452359879, 0.0452838313039734, 0.061502762959596204, 0.11189388321412339, 0.028957251871875225, 0.015585005860823386, 0.004030811185800062, 0.18770183958089132, 0.15600554984092052, 0.009102217544195393, 0.04975719445972777, 0.1932277587732938, 0.022845250340884627, 0.03901633854029615]\n",
      "test:  [0.07416843087301303, 0.04457760713815829, 0.061155166433432606, 0.11007451529178179, 0.02869376966043513, 0.016218737665506477, 0.004377623883167678, 0.18652744387431675, 0.1574987740260983, 0.008874854976257968, 0.05127561089382468, 0.19369191574868133, 0.024232420730321624, 0.038633128805004364]\n"
     ]
    }
   ],
   "source": [
    "train_label_dict = write_to_file(\"train.txt\", train)\n",
    "valid_label_dict = write_to_file(\"valid.txt\", valid)\n",
    "test_label_dict = write_to_file(\"test.txt\", test)\n",
    "print(\"train: \", print_distribution(train_label_dict))\n",
    "print(\"valid: \", print_distribution(valid_label_dict))\n",
    "print(\"test: \", print_distribution(test_label_dict))"
   ]
  }
 ],
 "metadata": {
  "kernelspec": {
   "display_name": "gpt2",
   "language": "python",
   "name": "python3"
  },
  "language_info": {
   "codemirror_mode": {
    "name": "ipython",
    "version": 3
   },
   "file_extension": ".py",
   "mimetype": "text/x-python",
   "name": "python",
   "nbconvert_exporter": "python",
   "pygments_lexer": "ipython3",
   "version": "3.10.9"
  },
  "orig_nbformat": 4
 },
 "nbformat": 4,
 "nbformat_minor": 2
}
