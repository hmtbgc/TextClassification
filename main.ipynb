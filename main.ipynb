{
 "cells": [
  {
   "cell_type": "code",
   "execution_count": 1,
   "metadata": {},
   "outputs": [],
   "source": [
    "import numpy as np\n",
    "import torch\n",
    "import torch.nn as nn\n",
    "from torch.utils.data import DataLoader, Dataset\n",
    "from tqdm import tqdm\n",
    "import torch.nn.functional as F"
   ]
  },
  {
   "cell_type": "code",
   "execution_count": 2,
   "metadata": {},
   "outputs": [
    {
     "name": "stderr",
     "output_type": "stream",
     "text": [
      "365076it [00:12, 28242.38it/s]\n"
     ]
    }
   ],
   "source": [
    "pretrained_embedding_path = \"./data/pretrained_wordvector/sgns.sogou.char\"\n",
    "embed = []\n",
    "word2idx = dict()\n",
    "idx2word = dict()\n",
    "\n",
    "size = None\n",
    "with open(pretrained_embedding_path, \"r\") as f:\n",
    "    idx = 0\n",
    "    f.readline()\n",
    "    for line in tqdm(f):\n",
    "        x = line.strip().split(' ')\n",
    "        word = x[0]\n",
    "        vector = np.asarray(x[1:], dtype=np.float32)\n",
    "        size = vector.shape\n",
    "        embed.append(vector)\n",
    "        word2idx[word] = idx\n",
    "        idx2word[idx] = word\n",
    "        idx += 1"
   ]
  },
  {
   "cell_type": "code",
   "execution_count": 3,
   "metadata": {},
   "outputs": [],
   "source": [
    "avg = sum(embed) / len(embed)\n",
    "embed.append(avg)\n",
    "word2idx['<UNK>'] = idx\n",
    "idx2word[idx] = '<UNK>'\n",
    "idx += 1\n",
    "\n",
    "embed.append(np.random.normal(size=size))\n",
    "word2idx['<PAD>'] = idx\n",
    "idx2word[idx] = '<PAD>'\n",
    "idx += 1\n",
    "\n"
   ]
  },
  {
   "cell_type": "code",
   "execution_count": 4,
   "metadata": {},
   "outputs": [
    {
     "data": {
      "text/plain": [
       "(torch.Size([365078, 300]), torch.float32)"
      ]
     },
     "execution_count": 4,
     "metadata": {},
     "output_type": "execute_result"
    }
   ],
   "source": [
    "embed = torch.from_numpy(np.array(embed)).float()\n",
    "embed.shape, embed.dtype"
   ]
  },
  {
   "cell_type": "code",
   "execution_count": 5,
   "metadata": {},
   "outputs": [],
   "source": [
    "class MyDataset(Dataset):\n",
    "    def __init__(self, path):\n",
    "        self.data = []\n",
    "        with open(path, \"r\") as f:\n",
    "            for line in tqdm(f):\n",
    "                x = line.split('\\t')\n",
    "                sen, label = x[0], x[1]\n",
    "                self.data.append((sen, int(label)))\n",
    "    \n",
    "    def __len__(self):\n",
    "        return len(self.data)\n",
    "    \n",
    "    def __getitem__(self, index):\n",
    "        return self.data[index]\n",
    "                \n",
    "    def collate(self, batchs):\n",
    "        sen_out = []\n",
    "        tot_sen = [pair[0] for pair in batchs]\n",
    "        tot_label = [pair[1] for pair in batchs]\n",
    "        max_len = max([len(sen) for sen in tot_sen])\n",
    "        for sen in tot_sen:\n",
    "            temp = []\n",
    "            for ch in sen:\n",
    "                if (ch not in word2idx):\n",
    "                    temp.append(word2idx['<UNK>'])\n",
    "                else:\n",
    "                    temp.append(word2idx[ch])\n",
    "            temp += [word2idx['<PAD>']] * (max_len - len(sen))\n",
    "            sen_out.append(temp)\n",
    "        return torch.from_numpy(np.array(sen_out)), torch.from_numpy(np.array(tot_label))\n",
    "                \n",
    "            \n",
    "            \n",
    "            \n",
    "        "
   ]
  },
  {
   "cell_type": "code",
   "execution_count": 6,
   "metadata": {},
   "outputs": [
    {
     "name": "stderr",
     "output_type": "stream",
     "text": [
      "668852it [00:00, 1666496.55it/s]\n",
      "83607it [00:00, 1504583.06it/s]\n",
      "83606it [00:00, 1716861.59it/s]\n"
     ]
    }
   ],
   "source": [
    "train_dataset = MyDataset(\"./data/train.txt\")\n",
    "test_dataset = MyDataset(\"./data/test.txt\")\n",
    "valid_dataset = MyDataset(\"./data/valid.txt\")"
   ]
  },
  {
   "cell_type": "code",
   "execution_count": 19,
   "metadata": {},
   "outputs": [],
   "source": [
    "batch_size = 256"
   ]
  },
  {
   "cell_type": "code",
   "execution_count": 21,
   "metadata": {},
   "outputs": [],
   "source": [
    "train_dataloder = DataLoader(train_dataset, batch_size=batch_size, shuffle=True, collate_fn=train_dataset.collate)\n",
    "test_dataloader = DataLoader(test_dataset, batch_size=batch_size, shuffle=False, collate_fn=test_dataset.collate)\n",
    "valid_dataloader = DataLoader(valid_dataset, batch_size=batch_size, shuffle=False, collate_fn=valid_dataset.collate)"
   ]
  },
  {
   "cell_type": "code",
   "execution_count": 8,
   "metadata": {},
   "outputs": [
    {
     "name": "stdout",
     "output_type": "stream",
     "text": [
      "tensor([[    48,   1319,   7301,  ..., 365077, 365077, 365077],\n",
      "        [  2110,    920,   1992,  ..., 365077, 365077, 365077],\n",
      "        [ 55874,   9032,  20354,  ..., 365077, 365077, 365077],\n",
      "        ...,\n",
      "        [  8154,  26841,   8360,  ..., 365077, 365077, 365077],\n",
      "        [   220,   1122,     34,  ..., 365077, 365077, 365077],\n",
      "        [ 64214,  44835,   5651,  ..., 365077, 365077, 365077]])\n",
      "tensor([ 0, 11, 11, 11, 11, 11,  7, 11,  3,  3,  7,  3,  3, 11,  3, 13,  8,  7,\n",
      "         8, 13,  2,  2,  8,  7,  3,  3, 10,  7, 12,  8,  1,  0,  0,  7,  8, 11,\n",
      "         3, 11,  5,  8,  3, 11,  7,  3,  3, 11,  7, 10,  7,  7,  2,  3, 11,  8,\n",
      "         7,  3,  7, 11,  3, 12, 11, 11,  6,  2,  1, 11,  7,  7,  2,  8,  7, 11,\n",
      "        11,  7,  7,  7,  1, 11,  3,  3, 13,  7, 11,  8,  8,  3,  3, 10, 10, 11,\n",
      "         8,  3, 13, 12,  7,  8,  1, 11, 11,  2,  3, 13, 11,  8,  3,  2,  0,  3,\n",
      "         8,  3,  6, 11,  0,  0,  0,  8,  7, 11,  8,  3,  2,  2,  7, 10,  8,  8,\n",
      "         1,  7])\n",
      "torch.Size([128, 26])\n",
      "torch.Size([128])\n"
     ]
    }
   ],
   "source": [
    "for batch in test_dataloader:\n",
    "    print(batch[0])\n",
    "    print(batch[1])\n",
    "    print(batch[0].shape)\n",
    "    print(batch[1].shape)\n",
    "    break"
   ]
  },
  {
   "cell_type": "code",
   "execution_count": 22,
   "metadata": {},
   "outputs": [],
   "source": [
    "class TextCNN(nn.Module):\n",
    "    def __init__(self, out_channels, embed_size, num_class, dropout):\n",
    "        super().__init__()\n",
    "        self.embedding = nn.Embedding.from_pretrained(embeddings=embed, freeze=True)\n",
    "        self.kernel1 = nn.Conv2d(in_channels=1, out_channels=out_channels, kernel_size=(2, embed_size))\n",
    "        self.kernel2 = nn.Conv2d(in_channels=1, out_channels=out_channels, kernel_size=(3, embed_size))\n",
    "        self.kernel3 = nn.Conv2d(in_channels=1, out_channels=out_channels, kernel_size=(4, embed_size))\n",
    "        self.dropout = nn.Dropout(dropout)\n",
    "        self.fc = nn.Linear(3 * out_channels, num_class)\n",
    "        \n",
    "    def forward(self, inputs):\n",
    "        # inputs: (b, s)\n",
    "        x = self.embedding(inputs)\n",
    "        # (b, s, ebs)\n",
    "        x = x.unsqueeze(1)\n",
    "        # (b, 1, s, ebs)\n",
    "        out1 = self.kernel1(x)\n",
    "        out2 = self.kernel2(x)\n",
    "        out3 = self.kernel3(x)\n",
    "        # (b, out, s-1, 1)\n",
    "        # (b, out, s-2, 1)\n",
    "        # (b, out, s-3, 1)\n",
    "        out1 = torch.squeeze(out1, dim=-1)\n",
    "        out2 = torch.squeeze(out2, dim=-1)\n",
    "        out3 = torch.squeeze(out3, dim=-1)\n",
    "        # (b, out, s-1)\n",
    "        # (b, out, s-2)\n",
    "        # (b, out, s-3)\n",
    "        out1 = F.max_pool1d(out1, out1.shape[-1])\n",
    "        out2 = F.max_pool1d(out2, out2.shape[-1])\n",
    "        out3 = F.max_pool1d(out3, out3.shape[-1])\n",
    "        # (b, out, 1)\n",
    "        # (b, out, 1)\n",
    "        # (b, out, 1)\n",
    "        out1 = torch.squeeze(out1, dim=-1)\n",
    "        out2 = torch.squeeze(out2, dim=-1)\n",
    "        out3 = torch.squeeze(out3, dim=-1)\n",
    "        # (b, out)\n",
    "        # (b, out)\n",
    "        # (b, out)\n",
    "        out = torch.cat([out1, out2, out3], dim=-1)\n",
    "        # (b, 3 * out)\n",
    "        out = F.relu(out)\n",
    "        out = self.dropout(out)\n",
    "        out = self.fc(out)\n",
    "        \n",
    "        return out        "
   ]
  },
  {
   "cell_type": "code",
   "execution_count": 23,
   "metadata": {},
   "outputs": [],
   "source": [
    "device = torch.device(\"cuda\" if torch.cuda.is_available() else \"cpu\")"
   ]
  },
  {
   "cell_type": "code",
   "execution_count": 24,
   "metadata": {},
   "outputs": [],
   "source": [
    "model = TextCNN(out_channels=100, embed_size=300, num_class=14, dropout=0.5)\n",
    "model = model.to(device)\n"
   ]
  },
  {
   "cell_type": "code",
   "execution_count": 25,
   "metadata": {},
   "outputs": [],
   "source": [
    "loss_fn = nn.CrossEntropyLoss()\n",
    "optimizer = torch.optim.AdamW(model.parameters(), lr=1e-3)"
   ]
  },
  {
   "cell_type": "code",
   "execution_count": 26,
   "metadata": {},
   "outputs": [],
   "source": [
    "eval_every = 2"
   ]
  },
  {
   "cell_type": "code",
   "execution_count": 27,
   "metadata": {},
   "outputs": [],
   "source": [
    "def eval(model, dataloader, device):\n",
    "    model.eval()\n",
    "    acc = 0\n",
    "    tot = 0\n",
    "    with torch.no_grad():\n",
    "        for batch in tqdm(dataloader):\n",
    "            data, label = batch\n",
    "            data = data.to(device)\n",
    "            out = model(data)\n",
    "            predicted = torch.argmax(out, dim=-1)\n",
    "            predicted = predicted.cpu()\n",
    "            acc += (predicted == label).sum()\n",
    "            tot += predicted.shape[0]\n",
    "        return acc / tot"
   ]
  },
  {
   "cell_type": "code",
   "execution_count": 28,
   "metadata": {},
   "outputs": [
    {
     "name": "stderr",
     "output_type": "stream",
     "text": [
      "100%|██████████| 2613/2613 [00:16<00:00, 156.82it/s]\n"
     ]
    },
    {
     "name": "stdout",
     "output_type": "stream",
     "text": [
      "epoch:0, loss:0.6092\n"
     ]
    },
    {
     "name": "stderr",
     "output_type": "stream",
     "text": [
      "100%|██████████| 327/327 [00:01<00:00, 277.57it/s]\n"
     ]
    },
    {
     "name": "stdout",
     "output_type": "stream",
     "text": [
      "epoch:0, valid acc: 88.7400%, best valid acc: 88.7400, at epoch 0\n"
     ]
    },
    {
     "name": "stderr",
     "output_type": "stream",
     "text": [
      "100%|██████████| 2613/2613 [00:16<00:00, 158.74it/s]\n"
     ]
    },
    {
     "name": "stdout",
     "output_type": "stream",
     "text": [
      "epoch:1, loss:0.4233\n"
     ]
    },
    {
     "name": "stderr",
     "output_type": "stream",
     "text": [
      "100%|██████████| 2613/2613 [00:16<00:00, 160.66it/s]\n"
     ]
    },
    {
     "name": "stdout",
     "output_type": "stream",
     "text": [
      "epoch:2, loss:0.3873\n"
     ]
    },
    {
     "name": "stderr",
     "output_type": "stream",
     "text": [
      "100%|██████████| 327/327 [00:01<00:00, 278.69it/s]\n"
     ]
    },
    {
     "name": "stdout",
     "output_type": "stream",
     "text": [
      "epoch:2, valid acc: 90.4062%, best valid acc: 90.4062, at epoch 2\n"
     ]
    },
    {
     "name": "stderr",
     "output_type": "stream",
     "text": [
      "100%|██████████| 2613/2613 [00:16<00:00, 160.70it/s]\n"
     ]
    },
    {
     "name": "stdout",
     "output_type": "stream",
     "text": [
      "epoch:3, loss:0.3663\n"
     ]
    },
    {
     "name": "stderr",
     "output_type": "stream",
     "text": [
      "100%|██████████| 2613/2613 [00:16<00:00, 160.17it/s]\n"
     ]
    },
    {
     "name": "stdout",
     "output_type": "stream",
     "text": [
      "epoch:4, loss:0.3533\n"
     ]
    },
    {
     "name": "stderr",
     "output_type": "stream",
     "text": [
      "100%|██████████| 327/327 [00:01<00:00, 276.38it/s]\n"
     ]
    },
    {
     "name": "stdout",
     "output_type": "stream",
     "text": [
      "epoch:4, valid acc: 91.0210%, best valid acc: 91.0210, at epoch 4\n"
     ]
    },
    {
     "name": "stderr",
     "output_type": "stream",
     "text": [
      "100%|██████████| 2613/2613 [00:16<00:00, 159.93it/s]\n"
     ]
    },
    {
     "name": "stdout",
     "output_type": "stream",
     "text": [
      "epoch:5, loss:0.3419\n"
     ]
    },
    {
     "name": "stderr",
     "output_type": "stream",
     "text": [
      "100%|██████████| 2613/2613 [00:16<00:00, 160.44it/s]\n"
     ]
    },
    {
     "name": "stdout",
     "output_type": "stream",
     "text": [
      "epoch:6, loss:0.3335\n"
     ]
    },
    {
     "name": "stderr",
     "output_type": "stream",
     "text": [
      "100%|██████████| 327/327 [00:01<00:00, 277.33it/s]\n"
     ]
    },
    {
     "name": "stdout",
     "output_type": "stream",
     "text": [
      "epoch:6, valid acc: 91.1944%, best valid acc: 91.1944, at epoch 6\n"
     ]
    },
    {
     "name": "stderr",
     "output_type": "stream",
     "text": [
      "100%|██████████| 2613/2613 [00:16<00:00, 159.92it/s]\n"
     ]
    },
    {
     "name": "stdout",
     "output_type": "stream",
     "text": [
      "epoch:7, loss:0.3259\n"
     ]
    },
    {
     "name": "stderr",
     "output_type": "stream",
     "text": [
      "100%|██████████| 2613/2613 [00:16<00:00, 159.92it/s]\n"
     ]
    },
    {
     "name": "stdout",
     "output_type": "stream",
     "text": [
      "epoch:8, loss:0.3201\n"
     ]
    },
    {
     "name": "stderr",
     "output_type": "stream",
     "text": [
      "100%|██████████| 327/327 [00:01<00:00, 276.01it/s]\n"
     ]
    },
    {
     "name": "stdout",
     "output_type": "stream",
     "text": [
      "epoch:8, valid acc: 91.5114%, best valid acc: 91.5114, at epoch 8\n"
     ]
    },
    {
     "name": "stderr",
     "output_type": "stream",
     "text": [
      "100%|██████████| 2613/2613 [00:16<00:00, 158.20it/s]\n"
     ]
    },
    {
     "name": "stdout",
     "output_type": "stream",
     "text": [
      "epoch:9, loss:0.3143\n"
     ]
    },
    {
     "name": "stderr",
     "output_type": "stream",
     "text": [
      "100%|██████████| 2613/2613 [00:16<00:00, 160.06it/s]\n"
     ]
    },
    {
     "name": "stdout",
     "output_type": "stream",
     "text": [
      "epoch:10, loss:0.3097\n"
     ]
    },
    {
     "name": "stderr",
     "output_type": "stream",
     "text": [
      "100%|██████████| 327/327 [00:01<00:00, 276.66it/s]\n"
     ]
    },
    {
     "name": "stdout",
     "output_type": "stream",
     "text": [
      "epoch:10, valid acc: 91.5999%, best valid acc: 91.5999, at epoch 10\n"
     ]
    },
    {
     "name": "stderr",
     "output_type": "stream",
     "text": [
      "100%|██████████| 2613/2613 [00:16<00:00, 158.08it/s]\n"
     ]
    },
    {
     "name": "stdout",
     "output_type": "stream",
     "text": [
      "epoch:11, loss:0.3058\n"
     ]
    },
    {
     "name": "stderr",
     "output_type": "stream",
     "text": [
      "100%|██████████| 2613/2613 [00:16<00:00, 159.44it/s]\n"
     ]
    },
    {
     "name": "stdout",
     "output_type": "stream",
     "text": [
      "epoch:12, loss:0.3013\n"
     ]
    },
    {
     "name": "stderr",
     "output_type": "stream",
     "text": [
      "100%|██████████| 327/327 [00:01<00:00, 269.37it/s]\n"
     ]
    },
    {
     "name": "stdout",
     "output_type": "stream",
     "text": [
      "epoch:12, valid acc: 91.7147%, best valid acc: 91.7147, at epoch 12\n"
     ]
    },
    {
     "name": "stderr",
     "output_type": "stream",
     "text": [
      "100%|██████████| 2613/2613 [00:16<00:00, 159.57it/s]\n"
     ]
    },
    {
     "name": "stdout",
     "output_type": "stream",
     "text": [
      "epoch:13, loss:0.2988\n"
     ]
    },
    {
     "name": "stderr",
     "output_type": "stream",
     "text": [
      "100%|██████████| 2613/2613 [00:16<00:00, 160.38it/s]\n"
     ]
    },
    {
     "name": "stdout",
     "output_type": "stream",
     "text": [
      "epoch:14, loss:0.2944\n"
     ]
    },
    {
     "name": "stderr",
     "output_type": "stream",
     "text": [
      "100%|██████████| 327/327 [00:01<00:00, 275.36it/s]\n"
     ]
    },
    {
     "name": "stdout",
     "output_type": "stream",
     "text": [
      "epoch:14, valid acc: 91.7171%, best valid acc: 91.7171, at epoch 14\n"
     ]
    },
    {
     "name": "stderr",
     "output_type": "stream",
     "text": [
      "100%|██████████| 2613/2613 [00:16<00:00, 160.38it/s]\n"
     ]
    },
    {
     "name": "stdout",
     "output_type": "stream",
     "text": [
      "epoch:15, loss:0.2933\n"
     ]
    },
    {
     "name": "stderr",
     "output_type": "stream",
     "text": [
      "100%|██████████| 2613/2613 [00:16<00:00, 160.30it/s]\n"
     ]
    },
    {
     "name": "stdout",
     "output_type": "stream",
     "text": [
      "epoch:16, loss:0.2910\n"
     ]
    },
    {
     "name": "stderr",
     "output_type": "stream",
     "text": [
      "100%|██████████| 327/327 [00:01<00:00, 274.73it/s]\n"
     ]
    },
    {
     "name": "stdout",
     "output_type": "stream",
     "text": [
      "epoch:16, valid acc: 91.7745%, best valid acc: 91.7745, at epoch 16\n"
     ]
    },
    {
     "name": "stderr",
     "output_type": "stream",
     "text": [
      "100%|██████████| 2613/2613 [00:16<00:00, 160.41it/s]\n"
     ]
    },
    {
     "name": "stdout",
     "output_type": "stream",
     "text": [
      "epoch:17, loss:0.2882\n"
     ]
    },
    {
     "name": "stderr",
     "output_type": "stream",
     "text": [
      "100%|██████████| 2613/2613 [00:16<00:00, 160.20it/s]\n"
     ]
    },
    {
     "name": "stdout",
     "output_type": "stream",
     "text": [
      "epoch:18, loss:0.2849\n"
     ]
    },
    {
     "name": "stderr",
     "output_type": "stream",
     "text": [
      "100%|██████████| 327/327 [00:01<00:00, 273.98it/s]\n"
     ]
    },
    {
     "name": "stdout",
     "output_type": "stream",
     "text": [
      "epoch:18, valid acc: 91.9743%, best valid acc: 91.9743, at epoch 18\n"
     ]
    },
    {
     "name": "stderr",
     "output_type": "stream",
     "text": [
      "100%|██████████| 2613/2613 [00:16<00:00, 161.23it/s]\n"
     ]
    },
    {
     "name": "stdout",
     "output_type": "stream",
     "text": [
      "epoch:19, loss:0.2838\n"
     ]
    },
    {
     "name": "stderr",
     "output_type": "stream",
     "text": [
      "100%|██████████| 2613/2613 [00:16<00:00, 162.51it/s]\n"
     ]
    },
    {
     "name": "stdout",
     "output_type": "stream",
     "text": [
      "epoch:20, loss:0.2821\n"
     ]
    },
    {
     "name": "stderr",
     "output_type": "stream",
     "text": [
      "100%|██████████| 327/327 [00:01<00:00, 278.34it/s]\n"
     ]
    },
    {
     "name": "stdout",
     "output_type": "stream",
     "text": [
      "epoch:20, valid acc: 91.9348%, best valid acc: 91.9743, at epoch 18\n"
     ]
    },
    {
     "name": "stderr",
     "output_type": "stream",
     "text": [
      "100%|██████████| 2613/2613 [00:16<00:00, 162.80it/s]\n"
     ]
    },
    {
     "name": "stdout",
     "output_type": "stream",
     "text": [
      "epoch:21, loss:0.2804\n"
     ]
    },
    {
     "name": "stderr",
     "output_type": "stream",
     "text": [
      "100%|██████████| 2613/2613 [00:16<00:00, 163.08it/s]\n"
     ]
    },
    {
     "name": "stdout",
     "output_type": "stream",
     "text": [
      "epoch:22, loss:0.2774\n"
     ]
    },
    {
     "name": "stderr",
     "output_type": "stream",
     "text": [
      "100%|██████████| 327/327 [00:01<00:00, 278.30it/s]\n"
     ]
    },
    {
     "name": "stdout",
     "output_type": "stream",
     "text": [
      "epoch:22, valid acc: 91.9635%, best valid acc: 91.9743, at epoch 18\n"
     ]
    },
    {
     "name": "stderr",
     "output_type": "stream",
     "text": [
      "100%|██████████| 2613/2613 [00:16<00:00, 162.43it/s]\n"
     ]
    },
    {
     "name": "stdout",
     "output_type": "stream",
     "text": [
      "epoch:23, loss:0.2783\n"
     ]
    },
    {
     "name": "stderr",
     "output_type": "stream",
     "text": [
      "100%|██████████| 2613/2613 [00:16<00:00, 162.32it/s]\n"
     ]
    },
    {
     "name": "stdout",
     "output_type": "stream",
     "text": [
      "epoch:24, loss:0.2747\n"
     ]
    },
    {
     "name": "stderr",
     "output_type": "stream",
     "text": [
      "100%|██████████| 327/327 [00:01<00:00, 276.37it/s]\n"
     ]
    },
    {
     "name": "stdout",
     "output_type": "stream",
     "text": [
      "epoch:24, valid acc: 91.9910%, best valid acc: 91.9910, at epoch 24\n"
     ]
    },
    {
     "name": "stderr",
     "output_type": "stream",
     "text": [
      "100%|██████████| 2613/2613 [00:16<00:00, 159.38it/s]\n"
     ]
    },
    {
     "name": "stdout",
     "output_type": "stream",
     "text": [
      "epoch:25, loss:0.2738\n"
     ]
    },
    {
     "name": "stderr",
     "output_type": "stream",
     "text": [
      "100%|██████████| 2613/2613 [00:16<00:00, 162.12it/s]\n"
     ]
    },
    {
     "name": "stdout",
     "output_type": "stream",
     "text": [
      "epoch:26, loss:0.2724\n"
     ]
    },
    {
     "name": "stderr",
     "output_type": "stream",
     "text": [
      "100%|██████████| 327/327 [00:01<00:00, 279.54it/s]\n"
     ]
    },
    {
     "name": "stdout",
     "output_type": "stream",
     "text": [
      "epoch:26, valid acc: 92.0496%, best valid acc: 92.0496, at epoch 26\n"
     ]
    },
    {
     "name": "stderr",
     "output_type": "stream",
     "text": [
      "100%|██████████| 2613/2613 [00:16<00:00, 159.98it/s]\n"
     ]
    },
    {
     "name": "stdout",
     "output_type": "stream",
     "text": [
      "epoch:27, loss:0.2709\n"
     ]
    },
    {
     "name": "stderr",
     "output_type": "stream",
     "text": [
      "100%|██████████| 2613/2613 [00:16<00:00, 160.71it/s]\n"
     ]
    },
    {
     "name": "stdout",
     "output_type": "stream",
     "text": [
      "epoch:28, loss:0.2699\n"
     ]
    },
    {
     "name": "stderr",
     "output_type": "stream",
     "text": [
      "100%|██████████| 327/327 [00:01<00:00, 277.51it/s]\n"
     ]
    },
    {
     "name": "stdout",
     "output_type": "stream",
     "text": [
      "epoch:28, valid acc: 91.9456%, best valid acc: 92.0496, at epoch 26\n"
     ]
    },
    {
     "name": "stderr",
     "output_type": "stream",
     "text": [
      "100%|██████████| 2613/2613 [00:16<00:00, 161.36it/s]\n"
     ]
    },
    {
     "name": "stdout",
     "output_type": "stream",
     "text": [
      "epoch:29, loss:0.2691\n"
     ]
    },
    {
     "name": "stderr",
     "output_type": "stream",
     "text": [
      "100%|██████████| 2613/2613 [00:16<00:00, 161.81it/s]\n"
     ]
    },
    {
     "name": "stdout",
     "output_type": "stream",
     "text": [
      "epoch:30, loss:0.2680\n"
     ]
    },
    {
     "name": "stderr",
     "output_type": "stream",
     "text": [
      "100%|██████████| 327/327 [00:01<00:00, 275.47it/s]\n"
     ]
    },
    {
     "name": "stdout",
     "output_type": "stream",
     "text": [
      "epoch:30, valid acc: 91.9838%, best valid acc: 92.0496, at epoch 26\n"
     ]
    },
    {
     "name": "stderr",
     "output_type": "stream",
     "text": [
      "100%|██████████| 2613/2613 [00:16<00:00, 161.25it/s]\n"
     ]
    },
    {
     "name": "stdout",
     "output_type": "stream",
     "text": [
      "epoch:31, loss:0.2668\n"
     ]
    },
    {
     "name": "stderr",
     "output_type": "stream",
     "text": [
      "100%|██████████| 2613/2613 [00:16<00:00, 161.98it/s]\n"
     ]
    },
    {
     "name": "stdout",
     "output_type": "stream",
     "text": [
      "epoch:32, loss:0.2668\n"
     ]
    },
    {
     "name": "stderr",
     "output_type": "stream",
     "text": [
      "100%|██████████| 327/327 [00:01<00:00, 278.92it/s]"
     ]
    },
    {
     "name": "stdout",
     "output_type": "stream",
     "text": [
      "epoch:32, valid acc: 92.0137%, best valid acc: 92.0496, at epoch 26\n",
      "early stop!\n"
     ]
    },
    {
     "name": "stderr",
     "output_type": "stream",
     "text": [
      "\n"
     ]
    }
   ],
   "source": [
    "Epoch = 100\n",
    "best_acc = 0.0\n",
    "best_epoch = -1\n",
    "early_stop = 5\n",
    "for epoch in range(Epoch):\n",
    "    model.train()\n",
    "    epoch_loss = 0.0\n",
    "    for batch in tqdm(train_dataloder):\n",
    "        data, label = batch\n",
    "        data = data.to(device)\n",
    "        label = label.to(device)\n",
    "        predicted = model(data)\n",
    "        loss = loss_fn(predicted, label)\n",
    "        epoch_loss += loss.item()\n",
    "        optimizer.zero_grad()\n",
    "        loss.backward()\n",
    "        optimizer.step()\n",
    "    print(f\"epoch:{epoch}, loss:{epoch_loss / len(train_dataloder):.4f}\")\n",
    "    if (epoch % eval_every == 0):\n",
    "        acc = eval(model, valid_dataloader, device)\n",
    "        if (acc > best_acc):\n",
    "            best_acc = acc\n",
    "            best_epoch = epoch\n",
    "            torch.save(model.state_dict(), \"./pt/TextCNN.pt\")\n",
    "        else:\n",
    "            early_stop -= 1\n",
    "        print(f\"epoch:{epoch}, valid acc: {acc * 100:.4f}%, best valid acc: {best_acc * 100:.4f}, at epoch {best_epoch}\")\n",
    "        if (early_stop == 0):\n",
    "            print(f\"early stop!\")\n",
    "            break\n",
    "            "
   ]
  },
  {
   "cell_type": "code",
   "execution_count": 30,
   "metadata": {},
   "outputs": [
    {
     "name": "stderr",
     "output_type": "stream",
     "text": [
      "100%|██████████| 327/327 [00:01<00:00, 276.15it/s]"
     ]
    },
    {
     "name": "stdout",
     "output_type": "stream",
     "text": [
      "test acc: 92.0940%\n"
     ]
    },
    {
     "name": "stderr",
     "output_type": "stream",
     "text": [
      "\n"
     ]
    }
   ],
   "source": [
    "test_model = TextCNN(out_channels=100, embed_size=300, num_class=14, dropout=0.5)\n",
    "test_model.load_state_dict(torch.load(\"./pt/TextCNN.pt\"))\n",
    "\n",
    "test_model = test_model.to(device)\n",
    "\n",
    "test_model.eval()\n",
    "with torch.no_grad():\n",
    "    acc = eval(test_model, test_dataloader, device)\n",
    "    print(f\"test acc: {acc * 100:.4f}%\")"
   ]
  }
 ],
 "metadata": {
  "kernelspec": {
   "display_name": "gpt2",
   "language": "python",
   "name": "python3"
  },
  "language_info": {
   "codemirror_mode": {
    "name": "ipython",
    "version": 3
   },
   "file_extension": ".py",
   "mimetype": "text/x-python",
   "name": "python",
   "nbconvert_exporter": "python",
   "pygments_lexer": "ipython3",
   "version": "3.10.9"
  },
  "orig_nbformat": 4
 },
 "nbformat": 4,
 "nbformat_minor": 2
}
