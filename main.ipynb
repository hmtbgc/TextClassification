{
 "cells": [
  {
   "cell_type": "code",
   "execution_count": 1,
   "metadata": {},
   "outputs": [],
   "source": [
    "import numpy as np\n",
    "import torch\n",
    "from torch.utils.data import DataLoader, Dataset\n",
    "from tqdm import tqdm"
   ]
  },
  {
   "cell_type": "code",
   "execution_count": 2,
   "metadata": {},
   "outputs": [
    {
     "name": "stderr",
     "output_type": "stream",
     "text": [
      "365077it [00:13, 27965.93it/s]\n"
     ]
    }
   ],
   "source": [
    "pretrained_embedding_path = \"./data/pretrained_wordvector/sgns.sogou.char\"\n",
    "embed = []\n",
    "word2idx = dict()\n",
    "idx2word = dict()\n",
    "\n",
    "size = None\n",
    "with open(pretrained_embedding_path, \"r\") as f:\n",
    "    idx = 0\n",
    "    for line in tqdm(f):\n",
    "        x = line.strip().split(' ')\n",
    "        word = x[0]\n",
    "        vector = np.asarray(x[1:], dtype=np.float32)\n",
    "        size = vector.shape\n",
    "        embed.append(vector)\n",
    "        word2idx[word] = idx\n",
    "        idx2word[idx] = word\n",
    "        idx += 1"
   ]
  },
  {
   "cell_type": "code",
   "execution_count": 3,
   "metadata": {},
   "outputs": [],
   "source": [
    "avg = sum(embed) / len(embed)\n",
    "embed.append(avg)\n",
    "word2idx['<UNK>'] = idx\n",
    "idx2word[idx] = '<UNK>'\n",
    "idx += 1\n",
    "\n",
    "embed.append(np.random.normal(size=size))\n",
    "word2idx['<PAD>'] = idx\n",
    "idx2word[idx] = '<PAD>'\n",
    "idx += 1\n",
    "\n"
   ]
  },
  {
   "cell_type": "code",
   "execution_count": 4,
   "metadata": {},
   "outputs": [],
   "source": [
    "class MyDataset(Dataset):\n",
    "    def __init__(self, path):\n",
    "        self.data = []\n",
    "        with open(path, \"r\") as f:\n",
    "            for line in tqdm(f):\n",
    "                x = line.split('\\t')\n",
    "                sen, label = x[0], x[1]\n",
    "                self.data.append((sen, int(label)))\n",
    "    \n",
    "    def __len__(self):\n",
    "        return len(self.data)\n",
    "    \n",
    "    def __getitem__(self, index):\n",
    "        return self.data[index]\n",
    "                \n",
    "    def collate(self, batchs):\n",
    "        sen_out = []\n",
    "        tot_sen = [pair[0] for pair in batchs]\n",
    "        tot_label = [pair[1] for pair in batchs]\n",
    "        max_len = max([len(sen) for sen in tot_sen])\n",
    "        for sen in tot_sen:\n",
    "            temp = []\n",
    "            for ch in sen:\n",
    "                if (ch not in word2idx):\n",
    "                    temp.append(word2idx['<UNK>'])\n",
    "                else:\n",
    "                    temp.append(word2idx[ch])\n",
    "            temp += [word2idx['<PAD>']] * (max_len - len(sen))\n",
    "            sen_out.append(temp)\n",
    "        return np.array(sen_out), np.array(tot_label)\n",
    "                \n",
    "            \n",
    "            \n",
    "            \n",
    "        "
   ]
  },
  {
   "cell_type": "code",
   "execution_count": 5,
   "metadata": {},
   "outputs": [
    {
     "name": "stderr",
     "output_type": "stream",
     "text": [
      "83607it [00:00, 1334042.85it/s]\n",
      "83606it [00:00, 1573826.39it/s]\n"
     ]
    }
   ],
   "source": [
    "test_dataset = MyDataset(\"./data/test.txt\")\n",
    "valid_dataset = MyDataset(\"./data/valid.txt\")"
   ]
  },
  {
   "cell_type": "code",
   "execution_count": 6,
   "metadata": {},
   "outputs": [],
   "source": [
    "test_dataloader = DataLoader(test_dataset, batch_size=128, shuffle=True, collate_fn=test_dataset.collate)"
   ]
  },
  {
   "cell_type": "code",
   "execution_count": 14,
   "metadata": {},
   "outputs": [
    {
     "name": "stdout",
     "output_type": "stream",
     "text": [
      "[[    49   1320   7302 ... 365078 365078 365078]\n",
      " [  2111    921   1993 ... 365078 365078 365078]\n",
      " [ 55875   9033  20355 ... 365078 365078 365078]\n",
      " ...\n",
      " [  8155  26842   8361 ... 365078 365078 365078]\n",
      " [   221   1123     35 ... 365078 365078 365078]\n",
      " [ 64215  44836   5652 ... 365078 365078 365078]] [ 0 11 11 11 11 11  7 11  3  3  7  3  3 11  3 13  8  7  8 13  2  2  8  7\n",
      "  3  3 10  7 12  8  1  0  0  7  8 11  3 11  5  8  3 11  7  3  3 11  7 10\n",
      "  7  7  2  3 11  8  7  3  7 11  3 12 11 11  6  2  1 11  7  7  2  8  7 11\n",
      " 11  7  7  7  1 11  3  3 13  7 11  8  8  3  3 10 10 11  8  3 13 12  7  8\n",
      "  1 11 11  2  3 13 11  8  3  2  0  3  8  3  6 11  0  0  0  8  7 11  8  3\n",
      "  2  2  7 10  8  8  1  7]\n",
      "(128, 26)\n",
      "(128,)\n"
     ]
    }
   ],
   "source": [
    "for batch in test_dataloader:\n",
    "    print(batch[0], batch[1])\n",
    "    print(batch[0].shape)\n",
    "    print(batch[1].shape)\n",
    "    break"
   ]
  }
 ],
 "metadata": {
  "kernelspec": {
   "display_name": "gpt2",
   "language": "python",
   "name": "python3"
  },
  "language_info": {
   "codemirror_mode": {
    "name": "ipython",
    "version": 3
   },
   "file_extension": ".py",
   "mimetype": "text/x-python",
   "name": "python",
   "nbconvert_exporter": "python",
   "pygments_lexer": "ipython3",
   "version": "3.10.9"
  },
  "orig_nbformat": 4
 },
 "nbformat": 4,
 "nbformat_minor": 2
}
