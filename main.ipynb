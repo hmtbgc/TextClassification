{
 "cells": [
  {
   "cell_type": "code",
   "execution_count": 1,
   "metadata": {},
   "outputs": [],
   "source": [
    "import numpy as np\n",
    "import torch\n",
    "import torch.nn as nn\n",
    "from torch.utils.data import DataLoader, Dataset\n",
    "from tqdm import tqdm\n",
    "import torch.nn.functional as F\n",
    "import logging"
   ]
  },
  {
   "cell_type": "code",
   "execution_count": 2,
   "metadata": {},
   "outputs": [],
   "source": [
    "model_name=\"TextRNN_attn\""
   ]
  },
  {
   "cell_type": "code",
   "execution_count": 3,
   "metadata": {},
   "outputs": [],
   "source": [
    "def init_logging(path):\n",
    "    logger = logging.getLogger('my_logger')\n",
    "    logger.setLevel(logging.INFO)\n",
    "\n",
    "    file_handler = logging.FileHandler(path)\n",
    "\n",
    "    formatter = logging.Formatter('%(asctime)s - %(name)s - %(levelname)s - %(message)s')\n",
    "    file_handler.setFormatter(formatter)\n",
    "\n",
    "    logger.addHandler(file_handler)\n",
    "    return logger"
   ]
  },
  {
   "cell_type": "code",
   "execution_count": 4,
   "metadata": {},
   "outputs": [],
   "source": [
    "logger = init_logging(f\"./log/{model_name}.txt\")"
   ]
  },
  {
   "cell_type": "code",
   "execution_count": 5,
   "metadata": {},
   "outputs": [
    {
     "name": "stderr",
     "output_type": "stream",
     "text": [
      "365076it [00:13, 26880.21it/s]\n"
     ]
    }
   ],
   "source": [
    "pretrained_embedding_path = \"./data/pretrained_wordvector/sgns.sogou.char\"\n",
    "embed = []\n",
    "word2idx = dict()\n",
    "idx2word = dict()\n",
    "\n",
    "size = None\n",
    "with open(pretrained_embedding_path, \"r\") as f:\n",
    "    idx = 0\n",
    "    f.readline()\n",
    "    for line in tqdm(f):\n",
    "        x = line.strip().split(' ')\n",
    "        word = x[0]\n",
    "        vector = np.asarray(x[1:], dtype=np.float32)\n",
    "        size = vector.shape\n",
    "        embed.append(vector)\n",
    "        word2idx[word] = idx\n",
    "        idx2word[idx] = word\n",
    "        idx += 1"
   ]
  },
  {
   "cell_type": "code",
   "execution_count": 6,
   "metadata": {},
   "outputs": [],
   "source": [
    "avg = sum(embed) / len(embed)\n",
    "embed.append(avg)\n",
    "word2idx['<UNK>'] = idx\n",
    "idx2word[idx] = '<UNK>'\n",
    "idx += 1\n",
    "\n",
    "embed.append(np.random.normal(size=size))\n",
    "word2idx['<PAD>'] = idx\n",
    "idx2word[idx] = '<PAD>'\n",
    "idx += 1\n",
    "\n"
   ]
  },
  {
   "cell_type": "code",
   "execution_count": 7,
   "metadata": {},
   "outputs": [
    {
     "data": {
      "text/plain": [
       "(torch.Size([365078, 300]), torch.float32)"
      ]
     },
     "execution_count": 7,
     "metadata": {},
     "output_type": "execute_result"
    }
   ],
   "source": [
    "embed = torch.from_numpy(np.array(embed)).float()\n",
    "embed.shape, embed.dtype"
   ]
  },
  {
   "cell_type": "code",
   "execution_count": 8,
   "metadata": {},
   "outputs": [],
   "source": [
    "class MyDataset(Dataset):\n",
    "    def __init__(self, path):\n",
    "        self.data = []\n",
    "        with open(path, \"r\") as f:\n",
    "            for line in tqdm(f):\n",
    "                x = line.split('\\t')\n",
    "                sen, label = x[0], x[1]\n",
    "                self.data.append((sen, int(label)))\n",
    "    \n",
    "    def __len__(self):\n",
    "        return len(self.data)\n",
    "    \n",
    "    def __getitem__(self, index):\n",
    "        return self.data[index]\n",
    "                \n",
    "    def collate(self, batchs):\n",
    "        sen_out = []\n",
    "        tot_sen = [pair[0] for pair in batchs]\n",
    "        tot_label = [pair[1] for pair in batchs]\n",
    "        max_len = max([len(sen) for sen in tot_sen])\n",
    "        for sen in tot_sen:\n",
    "            temp = []\n",
    "            for ch in sen:\n",
    "                if (ch not in word2idx):\n",
    "                    temp.append(word2idx['<UNK>'])\n",
    "                else:\n",
    "                    temp.append(word2idx[ch])\n",
    "            temp += [word2idx['<PAD>']] * (max_len - len(sen))\n",
    "            sen_out.append(temp)\n",
    "        return torch.from_numpy(np.array(sen_out)), torch.from_numpy(np.array(tot_label))\n",
    "                \n",
    "            \n",
    "            \n",
    "            \n",
    "        "
   ]
  },
  {
   "cell_type": "code",
   "execution_count": 9,
   "metadata": {},
   "outputs": [
    {
     "name": "stderr",
     "output_type": "stream",
     "text": [
      "668852it [00:00, 1693797.24it/s]\n",
      "83607it [00:00, 1573132.13it/s]\n",
      "83606it [00:00, 1695822.60it/s]\n"
     ]
    }
   ],
   "source": [
    "train_dataset = MyDataset(\"./data/train.txt\")\n",
    "test_dataset = MyDataset(\"./data/test.txt\")\n",
    "valid_dataset = MyDataset(\"./data/valid.txt\")"
   ]
  },
  {
   "cell_type": "code",
   "execution_count": 10,
   "metadata": {},
   "outputs": [],
   "source": [
    "batch_size = 256"
   ]
  },
  {
   "cell_type": "code",
   "execution_count": 11,
   "metadata": {},
   "outputs": [],
   "source": [
    "train_dataloder = DataLoader(train_dataset, batch_size=batch_size, shuffle=True, collate_fn=train_dataset.collate)\n",
    "test_dataloader = DataLoader(test_dataset, batch_size=batch_size, shuffle=False, collate_fn=test_dataset.collate)\n",
    "valid_dataloader = DataLoader(valid_dataset, batch_size=batch_size, shuffle=False, collate_fn=valid_dataset.collate)"
   ]
  },
  {
   "cell_type": "code",
   "execution_count": 12,
   "metadata": {},
   "outputs": [
    {
     "name": "stdout",
     "output_type": "stream",
     "text": [
      "tensor([[    48,   1319,   7301,  ..., 365077, 365077, 365077],\n",
      "        [  2110,    920,   1992,  ..., 365077, 365077, 365077],\n",
      "        [ 55874,   9032,  20354,  ..., 365077, 365077, 365077],\n",
      "        ...,\n",
      "        [  5899,  21257,  10550,  ..., 365077, 365077, 365077],\n",
      "        [  8883,  12078,  13042,  ..., 365077, 365077, 365077],\n",
      "        [    48,   1263,   6437,  ..., 365077, 365077, 365077]])\n",
      "tensor([ 0, 11, 11, 11, 11, 11,  7, 11,  3,  3,  7,  3,  3, 11,  3, 13,  8,  7,\n",
      "         8, 13,  2,  2,  8,  7,  3,  3, 10,  7, 12,  8,  1,  0,  0,  7,  8, 11,\n",
      "         3, 11,  5,  8,  3, 11,  7,  3,  3, 11,  7, 10,  7,  7,  2,  3, 11,  8,\n",
      "         7,  3,  7, 11,  3, 12, 11, 11,  6,  2,  1, 11,  7,  7,  2,  8,  7, 11,\n",
      "        11,  7,  7,  7,  1, 11,  3,  3, 13,  7, 11,  8,  8,  3,  3, 10, 10, 11,\n",
      "         8,  3, 13, 12,  7,  8,  1, 11, 11,  2,  3, 13, 11,  8,  3,  2,  0,  3,\n",
      "         8,  3,  6, 11,  0,  0,  0,  8,  7, 11,  8,  3,  2,  2,  7, 10,  8,  8,\n",
      "         1,  7, 11, 10, 10,  7,  1, 11,  2,  3,  1, 11, 11,  8,  5, 10,  8,  3,\n",
      "         1, 12,  8, 10,  4,  8,  4,  1,  7,  7,  8,  2,  7,  9,  5,  0,  8,  3,\n",
      "         8, 11,  0,  8,  1,  7, 12,  8,  1,  7,  8, 11,  3, 13,  8, 12,  8, 11,\n",
      "        11, 11,  3,  0, 11,  3,  5, 11,  8,  7, 11,  7,  7,  4,  7,  4,  8, 11,\n",
      "        11, 10,  7,  8,  8, 10,  7,  2,  3,  2, 11,  0, 11, 12,  7, 13,  7, 10,\n",
      "         1, 11,  8,  8, 13,  7,  7,  2,  3,  0,  1,  2, 11,  2,  2,  2,  2, 11,\n",
      "         7,  4,  1,  8,  7,  5,  8,  4,  7, 11,  0,  1,  3,  3, 11, 13,  0,  7,\n",
      "        11,  3,  8,  0])\n",
      "torch.Size([256, 29])\n",
      "torch.Size([256])\n"
     ]
    }
   ],
   "source": [
    "for batch in test_dataloader:\n",
    "    print(batch[0])\n",
    "    print(batch[1])\n",
    "    print(batch[0].shape)\n",
    "    print(batch[1].shape)\n",
    "    break"
   ]
  },
  {
   "cell_type": "code",
   "execution_count": 13,
   "metadata": {},
   "outputs": [],
   "source": [
    "from models.TextCNN import TextCNN\n",
    "from models.TextRNN import TextRNN\n",
    "from models.TextRNN_attn import TextRNN_attn\n"
   ]
  },
  {
   "cell_type": "code",
   "execution_count": 14,
   "metadata": {},
   "outputs": [],
   "source": [
    "device = torch.device(\"cuda\" if torch.cuda.is_available() else \"cpu\")"
   ]
  },
  {
   "cell_type": "code",
   "execution_count": 15,
   "metadata": {},
   "outputs": [
    {
     "name": "stderr",
     "output_type": "stream",
     "text": [
      "/home/hmtbgc/miniconda3/envs/gpt2/lib/python3.10/site-packages/torch/nn/modules/rnn.py:71: UserWarning: dropout option adds dropout after all but last recurrent layer, so non-zero dropout expects num_layers greater than 1, but got dropout=0.5 and num_layers=1\n",
      "  warnings.warn(\"dropout option adds dropout after all but last \"\n"
     ]
    }
   ],
   "source": [
    "model = TextRNN_attn(embed=embed, embed_size=300, hidden_size=64, num_class=14, dropout=0.5)\n",
    "model = model.to(device)\n"
   ]
  },
  {
   "cell_type": "code",
   "execution_count": 16,
   "metadata": {},
   "outputs": [],
   "source": [
    "loss_fn = nn.CrossEntropyLoss()\n",
    "optimizer = torch.optim.AdamW(model.parameters(), lr=1e-3)"
   ]
  },
  {
   "cell_type": "code",
   "execution_count": 17,
   "metadata": {},
   "outputs": [],
   "source": [
    "eval_every = 2"
   ]
  },
  {
   "cell_type": "code",
   "execution_count": 18,
   "metadata": {},
   "outputs": [],
   "source": [
    "def eval(model, dataloader, device):\n",
    "    model.eval()\n",
    "    acc = 0\n",
    "    tot = 0\n",
    "    with torch.no_grad():\n",
    "        for batch in tqdm(dataloader):\n",
    "            data, label = batch\n",
    "            data = data.to(device)\n",
    "            out = model(data)\n",
    "            predicted = torch.argmax(out, dim=-1)\n",
    "            predicted = predicted.cpu()\n",
    "            acc += (predicted == label).sum()\n",
    "            tot += predicted.shape[0]\n",
    "        return acc / tot"
   ]
  },
  {
   "cell_type": "code",
   "execution_count": 19,
   "metadata": {},
   "outputs": [
    {
     "name": "stderr",
     "output_type": "stream",
     "text": [
      "100%|██████████| 2613/2613 [00:11<00:00, 233.70it/s]\n",
      "100%|██████████| 327/327 [00:00<00:00, 406.02it/s]\n",
      "100%|██████████| 2613/2613 [00:11<00:00, 225.81it/s]\n",
      "100%|██████████| 2613/2613 [00:11<00:00, 231.50it/s]\n",
      "100%|██████████| 327/327 [00:00<00:00, 379.28it/s]\n",
      "100%|██████████| 2613/2613 [00:11<00:00, 219.79it/s]\n",
      "100%|██████████| 2613/2613 [00:11<00:00, 229.25it/s]\n",
      "100%|██████████| 327/327 [00:00<00:00, 335.24it/s]\n",
      "100%|██████████| 2613/2613 [00:11<00:00, 234.14it/s]\n",
      "100%|██████████| 2613/2613 [00:10<00:00, 238.43it/s]\n",
      "100%|██████████| 327/327 [00:00<00:00, 396.57it/s]\n",
      "100%|██████████| 2613/2613 [00:11<00:00, 233.33it/s]\n",
      "100%|██████████| 2613/2613 [00:11<00:00, 237.29it/s]\n",
      "100%|██████████| 327/327 [00:00<00:00, 395.39it/s]\n",
      "100%|██████████| 2613/2613 [00:11<00:00, 237.39it/s]\n",
      "100%|██████████| 2613/2613 [00:10<00:00, 241.41it/s]\n",
      "100%|██████████| 327/327 [00:00<00:00, 367.70it/s]\n",
      "100%|██████████| 2613/2613 [00:12<00:00, 217.05it/s]\n",
      "100%|██████████| 2613/2613 [00:11<00:00, 221.89it/s]\n",
      "100%|██████████| 327/327 [00:00<00:00, 365.06it/s]\n",
      "100%|██████████| 2613/2613 [00:12<00:00, 214.42it/s]\n",
      "100%|██████████| 2613/2613 [00:11<00:00, 226.96it/s]\n",
      "100%|██████████| 327/327 [00:00<00:00, 385.13it/s]\n",
      "100%|██████████| 2613/2613 [00:11<00:00, 225.37it/s]\n",
      "100%|██████████| 2613/2613 [00:11<00:00, 224.16it/s]\n",
      "100%|██████████| 327/327 [00:00<00:00, 369.10it/s]\n",
      "100%|██████████| 2613/2613 [00:11<00:00, 223.95it/s]\n",
      "100%|██████████| 2613/2613 [00:11<00:00, 229.17it/s]\n",
      "100%|██████████| 327/327 [00:00<00:00, 378.59it/s]\n",
      "100%|██████████| 2613/2613 [00:11<00:00, 233.00it/s]\n",
      "100%|██████████| 2613/2613 [00:11<00:00, 237.24it/s]\n",
      "100%|██████████| 327/327 [00:00<00:00, 390.92it/s]\n",
      "100%|██████████| 2613/2613 [00:11<00:00, 234.02it/s]\n",
      "100%|██████████| 2613/2613 [00:11<00:00, 234.79it/s]\n",
      "100%|██████████| 327/327 [00:00<00:00, 391.83it/s]\n",
      "100%|██████████| 2613/2613 [00:11<00:00, 235.64it/s]\n",
      "100%|██████████| 2613/2613 [00:11<00:00, 233.79it/s]\n",
      "100%|██████████| 327/327 [00:00<00:00, 366.02it/s]\n",
      "100%|██████████| 2613/2613 [00:11<00:00, 230.27it/s]\n",
      "100%|██████████| 2613/2613 [00:11<00:00, 237.15it/s]\n",
      "100%|██████████| 327/327 [00:00<00:00, 394.81it/s]\n"
     ]
    }
   ],
   "source": [
    "Epoch = 100\n",
    "best_acc = 0.0\n",
    "best_epoch = -1\n",
    "early_stop = 5\n",
    "for epoch in range(Epoch):\n",
    "    model.train()\n",
    "    epoch_loss = 0.0\n",
    "    for batch in tqdm(train_dataloder):\n",
    "        data, label = batch\n",
    "        data = data.to(device)\n",
    "        label = label.to(device)\n",
    "        predicted = model(data)\n",
    "        loss = loss_fn(predicted, label)\n",
    "        epoch_loss += loss.item()\n",
    "        optimizer.zero_grad()\n",
    "        loss.backward()\n",
    "        optimizer.step()\n",
    "    logger.info(f\"epoch:{epoch}, loss:{epoch_loss / len(train_dataloder):.4f}\")\n",
    "    if (epoch % eval_every == 0):\n",
    "        acc = eval(model, valid_dataloader, device)\n",
    "        if (acc > best_acc):\n",
    "            best_acc = acc\n",
    "            best_epoch = epoch\n",
    "            torch.save(model.state_dict(), f\"./pt/{model_name}.pt\")\n",
    "        else:\n",
    "            early_stop -= 1\n",
    "        logger.info(f\"epoch:{epoch}, valid acc: {acc * 100:.4f}%, best valid acc: {best_acc * 100:.4f}, at epoch {best_epoch}\")\n",
    "        if (early_stop == 0):\n",
    "            logger.info(f\"early stop!\")\n",
    "            break\n",
    "            "
   ]
  },
  {
   "cell_type": "code",
   "execution_count": 21,
   "metadata": {},
   "outputs": [
    {
     "name": "stderr",
     "output_type": "stream",
     "text": [
      "100%|██████████| 327/327 [00:00<00:00, 386.47it/s]\n"
     ]
    }
   ],
   "source": [
    "test_model = TextRNN_attn(embed=embed, embed_size=300, hidden_size=64, num_class=14, dropout=0.5)\n",
    "test_model.load_state_dict(torch.load(f\"./pt/{model_name}.pt\"))\n",
    "\n",
    "test_model = test_model.to(device)\n",
    "\n",
    "test_model.eval()\n",
    "with torch.no_grad():\n",
    "    acc = eval(test_model, test_dataloader, device)\n",
    "    logger.info(f\"test acc: {acc * 100:.4f}%\")"
   ]
  }
 ],
 "metadata": {
  "kernelspec": {
   "display_name": "gpt2",
   "language": "python",
   "name": "python3"
  },
  "language_info": {
   "codemirror_mode": {
    "name": "ipython",
    "version": 3
   },
   "file_extension": ".py",
   "mimetype": "text/x-python",
   "name": "python",
   "nbconvert_exporter": "python",
   "pygments_lexer": "ipython3",
   "version": "3.10.9"
  },
  "orig_nbformat": 4
 },
 "nbformat": 4,
 "nbformat_minor": 2
}
